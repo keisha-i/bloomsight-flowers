{
 "cells": [
  {
   "cell_type": "markdown",
   "metadata": {},
   "source": [
    "Splitting Database"
   ]
  },
  {
   "cell_type": "code",
   "execution_count": 1,
   "metadata": {},
   "outputs": [
    {
     "name": "stdout",
     "output_type": "stream",
     "text": [
      "Dataset successfully split into train, val, and test sets.\n"
     ]
    }
   ],
   "source": [
    "import os\n",
    "import shutil\n",
    "from sklearn.model_selection import train_test_split\n",
    "\n",
    "# Paths\n",
    "original_dataset_path = r\"C:\\Users\\kiezi\\bloomsight-flowers\\dataset\\flowers\"  # Path to your dataset\n",
    "output_dataset_path = r\"C:\\Users\\kiezi\\bloomsight-flowers\\second_output\"  # Path to store the split dataset\n",
    "\n",
    "# Splitting ratios\n",
    "train_ratio = 0.7\n",
    "val_ratio = 0.15\n",
    "test_ratio = 0.15\n",
    "\n",
    "# Ensure the output directories exist\n",
    "for split in ['train', 'val', 'test']:\n",
    "    os.makedirs(os.path.join(output_dataset_path, split), exist_ok=True)\n",
    "\n",
    "# Iterate over each category (e.g., daisy, rose, etc.)\n",
    "for category in os.listdir(original_dataset_path):\n",
    "    category_path = os.path.join(original_dataset_path, category)\n",
    "    \n",
    "    if not os.path.isdir(category_path):  # Skip non-directory files\n",
    "        continue\n",
    "    \n",
    "    # Get all files in the category (filter image files)\n",
    "    files = [os.path.join(category_path, f) for f in os.listdir(category_path) if f.lower().endswith(('.png', '.jpg', '.jpeg'))]\n",
    "    \n",
    "    # Skip categories with no files\n",
    "    if not files:\n",
    "        print(f\"No files found in category: {category}\")\n",
    "        continue\n",
    "    \n",
    "    # Split files into train, val, and test\n",
    "    train_files, temp_files = train_test_split(files, test_size=(val_ratio + test_ratio), random_state=42)\n",
    "    val_files, test_files = train_test_split(temp_files, test_size=(test_ratio / (val_ratio + test_ratio)), random_state=42)\n",
    "    \n",
    "    # Function to copy files to respective directories\n",
    "    def copy_files(files, split):\n",
    "        split_category_path = os.path.join(output_dataset_path, split, category)\n",
    "        os.makedirs(split_category_path, exist_ok=True)\n",
    "        for file in files:\n",
    "            shutil.copy(file, split_category_path)\n",
    "    \n",
    "    # Copy files to respective directories\n",
    "    copy_files(train_files, 'train')\n",
    "    copy_files(val_files, 'val')\n",
    "    copy_files(test_files, 'test')\n",
    "\n",
    "print(\"Dataset successfully split into train, val, and test sets.\")\n"
   ]
  },
  {
   "cell_type": "markdown",
   "metadata": {},
   "source": [
    "Data Preprocessing"
   ]
  },
  {
   "cell_type": "code",
   "execution_count": null,
   "metadata": {},
   "outputs": [
    {
     "name": "stdout",
     "output_type": "stream",
     "text": [
      "Dataset successfully split and moved to train, val, and test directories.\n"
     ]
    }
   ],
   "source": [
    "import os\n",
    "import shutil\n",
    "from sklearn.model_selection import train_test_split\n",
    "\n",
    "# Path to the dataset\n",
    "dataset_dir = r\"C:\\Users\\kiezi\\bloomsight-flowers\\dataset\\flowers\"\n",
    "\n",
    "# Create train, val, and test directories\n",
    "train_dir = r\"C:\\Users\\kiezi\\bloomsight-flowers\\second_ouput\\train\"\n",
    "val_dir = r\"C:\\Users\\kiezi\\bloomsight-flowers\\second_ouput\\val\"\n",
    "test_dir = r\"C:\\Users\\kiezi\\bloomsight-flowers\\second_ouput\\test\"\n",
    "\n",
    "# Create the directories if they don't exist\n",
    "os.makedirs(train_dir, exist_ok=True)\n",
    "os.makedirs(val_dir, exist_ok=True)\n",
    "os.makedirs(test_dir, exist_ok=True)\n",
    "\n",
    "# Get the list of class directories\n",
    "class_dirs = [d for d in os.listdir(dataset_dir) if os.path.isdir(os.path.join(dataset_dir, d))]\n",
    "\n",
    "# Split data for each class\n",
    "for class_dir in class_dirs:\n",
    "    class_path = os.path.join(dataset_dir, class_dir)\n",
    "    \n",
    "    # Get the list of image files in each class\n",
    "    class_images = [f for f in os.listdir(class_path) if os.path.isfile(os.path.join(class_path, f))]\n",
    "    \n",
    "    # Split the data into training, validation, and test sets (80% train, 10% val, 10% test)\n",
    "    train_images, temp_images = train_test_split(class_images, test_size=0.2, random_state=42)\n",
    "    val_images, test_images = train_test_split(temp_images, test_size=0.5, random_state=42)\n",
    "    \n",
    "    # Define function to move images to the appropriate directories\n",
    "    def move_images(image_list, target_dir):\n",
    "        for image in image_list:\n",
    "            # Create class directory if it doesn't exist\n",
    "            class_dir_path = os.path.join(target_dir, class_dir)\n",
    "            if not os.path.exists(class_dir_path):\n",
    "                os.makedirs(class_dir_path)\n",
    "            \n",
    "            # Move image to the appropriate class folder\n",
    "            shutil.move(os.path.join(class_path, image), os.path.join(class_dir_path, image))\n",
    "\n",
    "    # Move the images to their respective directories\n",
    "    move_images(train_images, train_dir)\n",
    "    move_images(val_images, val_dir)\n",
    "    move_images(test_images, test_dir)\n",
    "\n",
    "print(\"Dataset successfully split and moved to train, val, and test directories.\")\n"
   ]
  },
  {
   "cell_type": "markdown",
   "metadata": {},
   "source": [
    "Merging Dataset"
   ]
  },
  {
   "cell_type": "code",
   "execution_count": 10,
   "metadata": {},
   "outputs": [
    {
     "name": "stdout",
     "output_type": "stream",
     "text": [
      "Merging train set...\n",
      "Source directory C:\\Users\\kiezi\\bloomsight-flowers\\Flower_Classification\\train does not exist, skipping.\n",
      "Merging val set...\n",
      "Source directory C:\\Users\\kiezi\\bloomsight-flowers\\Flower_Classification\\val does not exist, skipping.\n",
      "Merging test set...\n",
      "Source directory C:\\Users\\kiezi\\bloomsight-flowers\\Flower_Classification\\test does not exist, skipping.\n",
      "Datasets successfully merged!\n"
     ]
    }
   ],
   "source": [
    "import os\n",
    "import shutil\n",
    "from pathlib import Path\n",
    "\n",
    "# Paths to the two datasets to merge\n",
    "dataset1_path = r\"C:\\Users\\kiezi\\bloomsight-flowers\\final_dataset\"\n",
    "dataset2_path = r\"C:\\Users\\kiezi\\bloomsight-flowers\\Flower_Classification\"\n",
    "\n",
    "# Path to the merged dataset\n",
    "merged_dataset_path = r\"C:\\Users\\kiezi\\bloomsight-flowers\\final_na_dataset\"\n",
    "\n",
    "# Create directories for the merged dataset (train, val, test)\n",
    "splits = ['train', 'val', 'test']\n",
    "for split in splits:\n",
    "    split_dir = os.path.join(merged_dataset_path, split)\n",
    "    os.makedirs(split_dir, exist_ok=True)\n",
    "\n",
    "# Function to merge two directories\n",
    "def merge_directories(source_dir, target_dir):\n",
    "    if not os.path.exists(source_dir):\n",
    "        print(f\"Source directory {source_dir} does not exist, skipping.\")\n",
    "        return\n",
    "\n",
    "    for class_name in os.listdir(source_dir):\n",
    "        source_class_dir = os.path.join(source_dir, class_name)\n",
    "        target_class_dir = os.path.join(target_dir, class_name)\n",
    "\n",
    "        # Skip if not a directory\n",
    "        if not os.path.isdir(source_class_dir):\n",
    "            continue\n",
    "\n",
    "        # Create class directory in target if it doesn't exist\n",
    "        os.makedirs(target_class_dir, exist_ok=True)\n",
    "\n",
    "        # Copy files from source to target\n",
    "        for file_name in os.listdir(source_class_dir):\n",
    "            source_file = os.path.join(source_class_dir, file_name)\n",
    "            target_file = os.path.join(target_class_dir, file_name)\n",
    "\n",
    "            # Avoid overwriting by renaming if a file with the same name exists\n",
    "            if os.path.exists(target_file):\n",
    "                file_stem = Path(file_name).stem\n",
    "                file_ext = Path(file_name).suffix\n",
    "                target_file = os.path.join(\n",
    "                    target_class_dir, f\"{file_stem}_dup{file_ext}\"\n",
    "                )\n",
    "\n",
    "            shutil.copy2(source_file, target_file)\n",
    "\n",
    "# Merge the datasets for each split\n",
    "for split in splits:\n",
    "    source_dir1 = os.path.join(dataset1_path, split)\n",
    "    source_dir2 = os.path.join(dataset2_path, split)\n",
    "    target_dir = os.path.join(merged_dataset_path, split)\n",
    "\n",
    "    print(f\"Merging {split} set...\")\n",
    "    merge_directories(source_dir1, target_dir)\n",
    "    merge_directories(source_dir2, target_dir)\n",
    "\n",
    "print(\"Datasets successfully merged!\")\n"
   ]
  },
  {
   "cell_type": "markdown",
   "metadata": {},
   "source": [
    "Label of Dataset"
   ]
  },
  {
   "cell_type": "code",
   "execution_count": 8,
   "metadata": {},
   "outputs": [
    {
     "ename": "ModuleNotFoundError",
     "evalue": "No module named 'pandas'",
     "output_type": "error",
     "traceback": [
      "\u001b[1;31m---------------------------------------------------------------------------\u001b[0m",
      "\u001b[1;31mModuleNotFoundError\u001b[0m                       Traceback (most recent call last)",
      "Cell \u001b[1;32mIn[8], line 2\u001b[0m\n\u001b[0;32m      1\u001b[0m \u001b[38;5;28;01mimport\u001b[39;00m \u001b[38;5;21;01mos\u001b[39;00m\n\u001b[1;32m----> 2\u001b[0m \u001b[38;5;28;01mimport\u001b[39;00m \u001b[38;5;21;01mpandas\u001b[39;00m \u001b[38;5;28;01mas\u001b[39;00m \u001b[38;5;21;01mpd\u001b[39;00m \n\u001b[0;32m      4\u001b[0m \u001b[38;5;66;03m# Path to the dataset\u001b[39;00m\n\u001b[0;32m      5\u001b[0m dataset_path \u001b[38;5;241m=\u001b[39m \u001b[38;5;124mr\u001b[39m\u001b[38;5;124m\"\u001b[39m\u001b[38;5;124mC:\u001b[39m\u001b[38;5;124m\\\u001b[39m\u001b[38;5;124mUsers\u001b[39m\u001b[38;5;124m\\\u001b[39m\u001b[38;5;124mkiezi\u001b[39m\u001b[38;5;124m\\\u001b[39m\u001b[38;5;124mbloomsight-flowers\u001b[39m\u001b[38;5;124m\\\u001b[39m\u001b[38;5;124mdataset\u001b[39m\u001b[38;5;124m\"\u001b[39m  \u001b[38;5;66;03m# Replace with your dataset folder path\u001b[39;00m\n",
      "\u001b[1;31mModuleNotFoundError\u001b[0m: No module named 'pandas'"
     ]
    }
   ],
   "source": [
    "import os\n",
    "import pandas as pd \n",
    "\n",
    "# Path to the dataset\n",
    "dataset_path = r\"C:\\Users\\kiezi\\bloomsight-flowers\\dataset\"  # Replace with your dataset folder path\n",
    "output_file = r\"C:\\Users\\kiezi\\bloomsight-flowers\\flower_labels.csv\" # File to save the labeled data\n",
    "\n",
    "# List to store image paths and labels\n",
    "data = []\n",
    "\n",
    "# Iterate through each class folder\n",
    "for class_folder in os.listdir(dataset_path):\n",
    "    class_path = os.path.join(dataset_path, class_folder)\n",
    "    if os.path.isdir(class_path):  # Ensure it's a directory\n",
    "        for image_file in os.listdir(class_path):\n",
    "            image_path = os.path.join(class_path, image_file)\n",
    "            data.append({'Image': image_path, 'Label': class_folder})\n",
    "\n",
    "# Create a DataFrame\n",
    "df = pd.DataFrame(data)\n",
    "\n",
    "# Save to a CSV file\n",
    "df.to_csv(output_file, index=False)\n",
    "\n",
    "print(f\"Labeled dataset saved to {output_file}\")"
   ]
  }
 ],
 "metadata": {
  "kernelspec": {
   "display_name": "Python 3",
   "language": "python",
   "name": "python3"
  },
  "language_info": {
   "codemirror_mode": {
    "name": "ipython",
    "version": 3
   },
   "file_extension": ".py",
   "mimetype": "text/x-python",
   "name": "python",
   "nbconvert_exporter": "python",
   "pygments_lexer": "ipython3",
   "version": "3.9.5"
  }
 },
 "nbformat": 4,
 "nbformat_minor": 2
}
